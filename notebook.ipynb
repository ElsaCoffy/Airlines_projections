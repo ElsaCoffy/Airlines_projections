{
 "cells": [
  {
   "attachments": {},
   "cell_type": "markdown",
   "metadata": {},
   "source": [
    "<h1> Package Needed</h1>"
   ]
  },
  {
   "cell_type": "code",
   "execution_count": 3,
   "metadata": {},
   "outputs": [],
   "source": [
    "import pandas as pd\n",
    "import plotly as plt"
   ]
  },
  {
   "cell_type": "code",
   "execution_count": 8,
   "metadata": {},
   "outputs": [
    {
     "name": "stdout",
     "output_type": "stream",
     "text": [
      "<class 'pandas.core.frame.DataFrame'>\n",
      "Int64Index: 254899 entries, 3223247 to 10014282\n",
      "Data columns (total 21 columns):\n",
      " #   Column              Non-Null Count   Dtype         \n",
      "---  ------              --------------   -----         \n",
      " 0   date                254899 non-null  datetime64[ns]\n",
      " 1   pax                 254899 non-null  float64       \n",
      " 2   seats               250749 non-null  float64       \n",
      " 3   flight_type         251168 non-null  object        \n",
      " 4   flight_typename     254899 non-null  object        \n",
      " 5   home_airport        254899 non-null  object        \n",
      " 6   paired_airport      254899 non-null  object        \n",
      " 7   home_airportname    254899 non-null  object        \n",
      " 8   paired_airportname  254899 non-null  object        \n",
      " 9   distance            254899 non-null  Int64         \n",
      " 10  flight_number       251438 non-null  object        \n",
      " 11  airline_iata        248648 non-null  object        \n",
      " 12  airline_name        254813 non-null  object        \n",
      " 13  scheduled_datetime  254899 non-null  datetime64[ns]\n",
      " 14  direction           254899 non-null  object        \n",
      " 15  home_country        254899 non-null  object        \n",
      " 16  paired_country      254899 non-null  object        \n",
      " 17  home_countryname    254899 non-null  object        \n",
      " 18  paired_countryname  254899 non-null  object        \n",
      " 19  travel_area         254899 non-null  object        \n",
      " 20  aircraft_type       251439 non-null  object        \n",
      "dtypes: Int64(1), datetime64[ns](2), float64(2), object(16)\n",
      "memory usage: 43.0+ MB\n",
      "None\n"
     ]
    }
   ],
   "source": [
    "df = pd.read_parquet('traffic_10lines.parquet')\n",
    "\n",
    "print(df.info())"
   ]
  },
  {
   "attachments": {},
   "cell_type": "markdown",
   "metadata": {},
   "source": [
    "<h1> Section 1 :  Plot </h1>\n"
   ]
  },
  {
   "cell_type": "code",
   "execution_count": null,
   "metadata": {},
   "outputs": [],
   "source": []
  }
 ],
 "metadata": {
  "kernelspec": {
   "display_name": "Python 3",
   "language": "python",
   "name": "python3"
  },
  "language_info": {
   "codemirror_mode": {
    "name": "ipython",
    "version": 3
   },
   "file_extension": ".py",
   "mimetype": "text/x-python",
   "name": "python",
   "nbconvert_exporter": "python",
   "pygments_lexer": "ipython3",
   "version": "3.10.8"
  },
  "orig_nbformat": 4
 },
 "nbformat": 4,
 "nbformat_minor": 2
}
